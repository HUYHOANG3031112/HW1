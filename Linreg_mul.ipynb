{
 "cells": [
  {
   "cell_type": "code",
   "execution_count": null,
   "metadata": {},
   "outputs": [],
   "source": [
    "from google.colab import drive\n",
    "drive.mount('/content/gdrive')"
   ]
  },
  {
   "cell_type": "code",
   "execution_count": null,
   "metadata": {},
   "outputs": [],
   "source": [
    "import pandas as pd\n",
    "from numpy.linalg import inv\n",
    "\n",
    "df=pd.read_csv('/content/gdrive/MyDrive/learningdeep/DL_Tutorial-master/DL_Tutorial-master/data/multivariateData.dat')\n",
    "df.info()"
   ]
  },
  {
   "cell_type": "code",
   "execution_count": null,
   "metadata": {},
   "outputs": [],
   "source": [
    "'''\n",
    "    TEST SCRIPT FOR MULTIVARIATE LINEAR REGRESSION\n",
    "    AUTHOR Eric Eaton, Vishnu Purushothaman Sreenivasan\n",
    "'''\n",
    "\n",
    "'''\n",
    "Numpy is a standard library in python that lets you do matrix and vector operations like Matlab in python.\n",
    "Check out documentation here: http://wiki.scipy.org/Tentative_NumPy_Tutorial\n",
    "If you are a Matlab user this page is super useful: http://wiki.scipy.org/NumPy_for_Matlab_Users \n",
    "'''\n",
    "import numpy as np\n",
    "from numpy.linalg import *\n",
    "\n",
    "# our linear regression class\n",
    "from sklearn.linear_model import LinearRegression\n",
    "#from linreg import LinearRegression\n",
    "\n",
    "\n",
    "if __name__ == \"__main__\":\n",
    "    '''\n",
    "        Main function to test multivariate linear regression\n",
    "    '''\n",
    "    \n",
    "    # load the data\n",
    "    #filePath = \"data/multivariateData.dat\"\n",
    "    #file = open(filePath,'r')\n",
    "    #allData = np.loadtxt(df, delimiter=',')\n",
    "\n",
    "    #X = np.matrix(allData[:,:-1])\n",
    "    #y = np.matrix((allData[:,-1])).T\n",
    "    X=np.asarray(df.drop(\"399900\",axis=1))\n",
    "    y=np.asarray(df[\"399900\"])\n",
    "    n,d = X.shape\n",
    "    \n",
    "    # Standardize\n",
    "    mean = X.mean(axis=0)\n",
    "    std = X.std(axis=0)\n",
    "    X = (X - mean) / std\n",
    "    \n",
    "    # Add a row of ones for the bias term\n",
    "    X = np.c_[np.ones((n,1)), X]\n",
    "    \n",
    "    # initialize the model\n",
    "    initt_theta = np.matrix(np.random.randn((d+1))).T\n",
    "    n_iter = 2000\n",
    "    alpha = 0.01\n",
    "\n",
    "    # Instantiate objects\n",
    "    lr_model = LinearRegression()\n",
    "    lr_model.fit(X,y)\n",
    "\n",
    "    # Compute the closed form solution in one line of code\n",
    "    thetaClosedForm = inv(X.T.dot(X)).dot(X.T).dot(y)\n",
    "\n",
    "    print( \"thetaClosedForm: \", thetaClosedForm)"
   ]
  }
 ],
 "metadata": {
  "language_info": {
   "name": "python"
  },
  "orig_nbformat": 4
 },
 "nbformat": 4,
 "nbformat_minor": 2
}
